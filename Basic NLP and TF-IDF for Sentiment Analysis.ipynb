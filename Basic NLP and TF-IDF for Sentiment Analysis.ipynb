{
 "cells": [
  {
   "cell_type": "code",
   "execution_count": 36,
   "id": "6877c00a",
   "metadata": {},
   "outputs": [
    {
     "name": "stdout",
     "output_type": "stream",
     "text": [
      "showing info https://raw.githubusercontent.com/nltk/nltk_data/gh-pages/index.xml\n"
     ]
    },
    {
     "name": "stderr",
     "output_type": "stream",
     "text": [
      "[nltk_data] Downloading package punkt to\n",
      "[nltk_data]     C:\\Users\\Administrator\\AppData\\Roaming\\nltk_data...\n",
      "[nltk_data]   Package punkt is already up-to-date!\n",
      "[nltk_data] Downloading package stopwords to\n",
      "[nltk_data]     C:\\Users\\Administrator\\AppData\\Roaming\\nltk_data...\n",
      "[nltk_data]   Package stopwords is already up-to-date!\n"
     ]
    },
    {
     "ename": "OSError",
     "evalue": "[E050] Can't find model 'en_core_web_sm'. It doesn't seem to be a Python package or a valid path to a data directory.",
     "output_type": "error",
     "traceback": [
      "\u001b[1;31m---------------------------------------------------------------------------\u001b[0m",
      "\u001b[1;31mOSError\u001b[0m                                   Traceback (most recent call last)",
      "Cell \u001b[1;32mIn[36], line 35\u001b[0m\n\u001b[0;32m     32\u001b[0m stemmed_tokens \u001b[38;5;241m=\u001b[39m [stemmer\u001b[38;5;241m.\u001b[39mstem(word) \u001b[38;5;28;01mfor\u001b[39;00m word \u001b[38;5;129;01min\u001b[39;00m filtered_tokens]\n\u001b[0;32m     34\u001b[0m \u001b[38;5;66;03m# Step 4: Lemmatization (using spaCy)\u001b[39;00m\n\u001b[1;32m---> 35\u001b[0m nlp \u001b[38;5;241m=\u001b[39m spacy\u001b[38;5;241m.\u001b[39mload(\u001b[38;5;124m\"\u001b[39m\u001b[38;5;124men_core_web_sm\u001b[39m\u001b[38;5;124m\"\u001b[39m)\n\u001b[0;32m     36\u001b[0m doc \u001b[38;5;241m=\u001b[39m nlp(\u001b[38;5;124m\"\u001b[39m\u001b[38;5;124m \u001b[39m\u001b[38;5;124m\"\u001b[39m\u001b[38;5;241m.\u001b[39mjoin(filtered_tokens))\n\u001b[0;32m     37\u001b[0m lemmatized_tokens \u001b[38;5;241m=\u001b[39m [token\u001b[38;5;241m.\u001b[39mlemma_ \u001b[38;5;28;01mfor\u001b[39;00m token \u001b[38;5;129;01min\u001b[39;00m doc]\n",
      "File \u001b[1;32mC:\\ProgramData\\Anaconda3\\Lib\\site-packages\\spacy\\__init__.py:51\u001b[0m, in \u001b[0;36mload\u001b[1;34m(name, vocab, disable, enable, exclude, config)\u001b[0m\n\u001b[0;32m     27\u001b[0m \u001b[38;5;28;01mdef\u001b[39;00m \u001b[38;5;21mload\u001b[39m(\n\u001b[0;32m     28\u001b[0m     name: Union[\u001b[38;5;28mstr\u001b[39m, Path],\n\u001b[0;32m     29\u001b[0m     \u001b[38;5;241m*\u001b[39m,\n\u001b[1;32m   (...)\u001b[0m\n\u001b[0;32m     34\u001b[0m     config: Union[Dict[\u001b[38;5;28mstr\u001b[39m, Any], Config] \u001b[38;5;241m=\u001b[39m util\u001b[38;5;241m.\u001b[39mSimpleFrozenDict(),\n\u001b[0;32m     35\u001b[0m ) \u001b[38;5;241m-\u001b[39m\u001b[38;5;241m>\u001b[39m Language:\n\u001b[0;32m     36\u001b[0m \u001b[38;5;250m    \u001b[39m\u001b[38;5;124;03m\"\"\"Load a spaCy model from an installed package or a local path.\u001b[39;00m\n\u001b[0;32m     37\u001b[0m \n\u001b[0;32m     38\u001b[0m \u001b[38;5;124;03m    name (str): Package name or model path.\u001b[39;00m\n\u001b[1;32m   (...)\u001b[0m\n\u001b[0;32m     49\u001b[0m \u001b[38;5;124;03m    RETURNS (Language): The loaded nlp object.\u001b[39;00m\n\u001b[0;32m     50\u001b[0m \u001b[38;5;124;03m    \"\"\"\u001b[39;00m\n\u001b[1;32m---> 51\u001b[0m     \u001b[38;5;28;01mreturn\u001b[39;00m util\u001b[38;5;241m.\u001b[39mload_model(\n\u001b[0;32m     52\u001b[0m         name,\n\u001b[0;32m     53\u001b[0m         vocab\u001b[38;5;241m=\u001b[39mvocab,\n\u001b[0;32m     54\u001b[0m         disable\u001b[38;5;241m=\u001b[39mdisable,\n\u001b[0;32m     55\u001b[0m         enable\u001b[38;5;241m=\u001b[39menable,\n\u001b[0;32m     56\u001b[0m         exclude\u001b[38;5;241m=\u001b[39mexclude,\n\u001b[0;32m     57\u001b[0m         config\u001b[38;5;241m=\u001b[39mconfig,\n\u001b[0;32m     58\u001b[0m     )\n",
      "File \u001b[1;32mC:\\ProgramData\\Anaconda3\\Lib\\site-packages\\spacy\\util.py:472\u001b[0m, in \u001b[0;36mload_model\u001b[1;34m(name, vocab, disable, enable, exclude, config)\u001b[0m\n\u001b[0;32m    470\u001b[0m \u001b[38;5;28;01mif\u001b[39;00m name \u001b[38;5;129;01min\u001b[39;00m OLD_MODEL_SHORTCUTS:\n\u001b[0;32m    471\u001b[0m     \u001b[38;5;28;01mraise\u001b[39;00m \u001b[38;5;167;01mIOError\u001b[39;00m(Errors\u001b[38;5;241m.\u001b[39mE941\u001b[38;5;241m.\u001b[39mformat(name\u001b[38;5;241m=\u001b[39mname, full\u001b[38;5;241m=\u001b[39mOLD_MODEL_SHORTCUTS[name]))  \u001b[38;5;66;03m# type: ignore[index]\u001b[39;00m\n\u001b[1;32m--> 472\u001b[0m \u001b[38;5;28;01mraise\u001b[39;00m \u001b[38;5;167;01mIOError\u001b[39;00m(Errors\u001b[38;5;241m.\u001b[39mE050\u001b[38;5;241m.\u001b[39mformat(name\u001b[38;5;241m=\u001b[39mname))\n",
      "\u001b[1;31mOSError\u001b[0m: [E050] Can't find model 'en_core_web_sm'. It doesn't seem to be a Python package or a valid path to a data directory."
     ]
    }
   ],
   "source": [
    "# Install necessary libraries\n",
    "# !pip install nltk spacy matplotlib wordcloud\n",
    "import nltk\n",
    "nltk.download()\n",
    "\n",
    "\n",
    "\n",
    "import spacy\n",
    "import matplotlib.pyplot as plt\n",
    "from nltk.tokenize import word_tokenize\n",
    "from nltk.corpus import stopwords\n",
    "from wordcloud import WordCloud\n",
    "import pandas as pd\n",
    "\n",
    "# Download necessary NLTK resources\n",
    "nltk.download('punkt')\n",
    "nltk.download('stopwords')\n",
    "\n",
    "# Sample text data (could be any dataset or user input)\n",
    "text = \"Machine learning is great, but natural language processing can be complex. NLP is fun and exciting!\"\n",
    "\n",
    "# Step 1: Tokenization (breaking the text into words)\n",
    "tokens = word_tokenize(text)\n",
    "\n",
    "# Step 2: Stopword Removal\n",
    "stop_words = set(stopwords.words(\"english\"))\n",
    "filtered_tokens = [word for word in tokens if word.lower() not in stop_words]\n",
    "\n",
    "# Step 3: Stemming (optional, using nltk PorterStemmer)\n",
    "from nltk.stem import PorterStemmer\n",
    "stemmer = PorterStemmer()\n",
    "stemmed_tokens = [stemmer.stem(word) for word in filtered_tokens]\n",
    "\n",
    "# Step 4: Lemmatization (using spaCy)\n",
    "nlp = spacy.load(\"en_core_web_sm\")\n",
    "doc = nlp(\" \".join(filtered_tokens))\n",
    "lemmatized_tokens = [token.lemma_ for token in doc]\n",
    "\n",
    "# Display processed tokens\n",
    "print(\"Original Tokens:\", tokens)\n",
    "print(\"Filtered Tokens (No Stopwords):\", filtered_tokens)\n",
    "print(\"Stemmed Tokens:\", stemmed_tokens)\n",
    "print(\"Lemmatized Tokens:\", lemmatized_tokens)\n",
    "\n"
   ]
  },
  {
   "cell_type": "code",
   "execution_count": null,
   "id": "0ed5cdcc",
   "metadata": {},
   "outputs": [],
   "source": [
    "# Import necessary libraries\n",
    "import nltk\n",
    "import matplotlib.pyplot as plt\n",
    "from nltk.tokenize import word_tokenize\n",
    "from nltk.corpus import stopwords\n",
    "from collections import Counter\n",
    "\n",
    "# Download necessary NLTK resources\n",
    "nltk.download('punkt')\n",
    "nltk.download('stopwords')\n",
    "\n",
    "# Sample text data (could be any dataset or user input)\n",
    "text = \"Machine learning is great, but natural language processing can be complex. NLP is fun and exciting!\"\n",
    "\n",
    "# Step 1: Tokenization (breaking the text into words)\n",
    "tokens = word_tokenize(text)\n",
    "\n",
    "# Step 2: Remove punctuation and convert words to lowercase\n",
    "filtered_tokens = [word.lower() for word in tokens if word.isalnum()]\n",
    "\n",
    "# Step 3: Remove stopwords\n",
    "stop_words = set(stopwords.words(\"english\"))\n",
    "filtered_tokens = [word for word in filtered_tokens if word not in stop_words]\n",
    "\n",
    "# Step 4: Count word frequencies using Counter\n",
    "word_counts = Counter(filtered_tokens)\n",
    "\n",
    "# Step 5: Visualize token frequency with Matplotlib\n",
    "# Get the most common words and their counts\n",
    "common_words = word_counts.most_common(10)\n",
    "\n",
    "# Unzip the common words into two lists: words and their counts\n",
    "words, counts = zip(*common_words)\n",
    "\n",
    "# Create a bar plot for the most common words\n",
    "plt.figure(figsize=(10, 6))\n",
    "plt.bar(words, counts)\n",
    "plt.xlabel('Words')\n",
    "plt.ylabel('Frequency')\n",
    "plt.title('Top 10 Word Frequencies')\n",
    "plt.xticks(rotation=45)\n",
    "plt.show()\n",
    "\n",
    "# Print the filtered tokens and word counts\n",
    "print(\"Filtered Tokens:\", filtered_tokens)\n",
    "print(\"Word Counts:\", word_counts)\n"
   ]
  },
  {
   "cell_type": "code",
   "execution_count": 1,
   "id": "19d3fb2d",
   "metadata": {},
   "outputs": [
    {
     "name": "stderr",
     "output_type": "stream",
     "text": [
      "[nltk_data] Downloading package punkt to\n",
      "[nltk_data]     C:\\Users\\Administrator\\AppData\\Roaming\\nltk_data...\n",
      "[nltk_data]   Package punkt is already up-to-date!\n",
      "[nltk_data] Downloading package stopwords to\n",
      "[nltk_data]     C:\\Users\\Administrator\\AppData\\Roaming\\nltk_data...\n",
      "[nltk_data]   Package stopwords is already up-to-date!\n"
     ]
    },
    {
     "data": {
      "image/png": "[encoded data removed]",
      "text/plain": [
       "<Figure size 1000x500 with 1 Axes>"
      ]
     },
     "metadata": {},
     "output_type": "display_data"
    },
    {
     "name": "stdout",
     "output_type": "stream",
     "text": [
      "Original Tokens: ['Machine', 'learning', 'is', 'great', ',', 'but', 'natural', 'language', 'processing', 'can', 'be', 'complex', '.', 'NLP', 'is', 'fun', 'and', 'exciting', '!']\n",
      "Filtered Tokens (No Stopwords): ['Machine', 'learning', 'great', ',', 'natural', 'language', 'processing', 'complex', '.', 'NLP', 'fun', 'exciting', '!']\n",
      "Stemmed Tokens: ['machin', 'learn', 'great', ',', 'natur', 'languag', 'process', 'complex', '.', 'nlp', 'fun', 'excit', '!']\n"
     ]
    }
   ],
   "source": [
    "# Import necessary libraries\n",
    "import nltk\n",
    "import matplotlib.pyplot as plt\n",
    "from nltk.tokenize import word_tokenize\n",
    "from nltk.stem import PorterStemmer\n",
    "from nltk.corpus import stopwords\n",
    "from collections import Counter\n",
    "\n",
    "# Download necessary NLTK resources\n",
    "nltk.download('punkt')\n",
    "nltk.download('stopwords')\n",
    "\n",
    "# Sample text data (could be any dataset or user input)\n",
    "text = \"Machine learning is great, but natural language processing can be complex. NLP is fun and exciting!\"\n",
    "\n",
    "# Step 1: Tokenization (breaking the text into words)\n",
    "tokens = word_tokenize(text)\n",
    "\n",
    "# Step 2: Remove stopwords\n",
    "stop_words = set(stopwords.words(\"english\"))\n",
    "filtered_tokens = [word for word in tokens if word.lower() not in stop_words]\n",
    "\n",
    "# Step 3: Stemming using NLTK's PorterStemmer\n",
    "ps = PorterStemmer()\n",
    "stemmed_tokens = [ps.stem(word) for word in filtered_tokens]\n",
    "\n",
    "# Step 4: Count the frequency of each token\n",
    "token_counts = Counter(stemmed_tokens)\n",
    "\n",
    "# Step 5: Plot the token frequency distribution using Matplotlib\n",
    "plt.figure(figsize=(10, 5))\n",
    "plt.bar(token_counts.keys(), token_counts.values())\n",
    "plt.xlabel('Tokens')\n",
    "plt.ylabel('Frequency')\n",
    "plt.title('Token Frequency after Stemming')\n",
    "plt.xticks(rotation=45)\n",
    "plt.show()\n",
    "\n",
    "# Display processed tokens\n",
    "print(\"Original Tokens:\", tokens)\n",
    "print(\"Filtered Tokens (No Stopwords):\", filtered_tokens)\n",
    "print(\"Stemmed Tokens:\", stemmed_tokens)\n"
   ]
  },
  {
   "cell_type": "code",
   "execution_count": 4,
   "id": "f92c2d42",
   "metadata": {},
   "outputs": [
    {
     "name": "stdout",
     "output_type": "stream",
     "text": [
      "Original Tokens: ['The', 'cats', 'were', 'running', 'and', 'jumping', 'over', 'the', 'boxes', '.', 'The', 'dogs', 'run', 'quickly', 'and', 'they', 'are', 'happy', '!']\n",
      "Lemmatized Tokens: ['The', 'cat', 'were', 'run', 'and', 'jump', 'over', 'the', 'box', '.', 'The', 'dog', 'run', 'quickly', 'and', 'they', 'are', 'happy', '!']\n",
      "Token Frequency: Counter({'The': 2, 'run': 2, 'and': 2, 'cat': 1, 'were': 1, 'jump': 1, 'over': 1, 'the': 1, 'box': 1, '.': 1, 'dog': 1, 'quickly': 1, 'they': 1, 'are': 1, 'happy': 1, '!': 1})\n"
     ]
    },
    {
     "name": "stderr",
     "output_type": "stream",
     "text": [
      "[nltk_data] Downloading package punkt to\n",
      "[nltk_data]     C:\\Users\\Administrator\\AppData\\Roaming\\nltk_data...\n",
      "[nltk_data]   Package punkt is already up-to-date!\n",
      "[nltk_data] Downloading package wordnet to\n",
      "[nltk_data]     C:\\Users\\Administrator\\AppData\\Roaming\\nltk_data...\n",
      "[nltk_data]   Package wordnet is already up-to-date!\n",
      "[nltk_data] Downloading package omw-1.4 to\n",
      "[nltk_data]     C:\\Users\\Administrator\\AppData\\Roaming\\nltk_data...\n",
      "[nltk_data]   Package omw-1.4 is already up-to-date!\n"
     ]
    }
   ],
   "source": [
    "# Import necessary libraries\n",
    "import nltk\n",
    "from nltk.tokenize import word_tokenize\n",
    "from nltk.stem import WordNetLemmatizer  # Import lemmatizer\n",
    "from collections import Counter\n",
    "\n",
    "# Download necessary NLTK resources\n",
    "nltk.download('punkt')\n",
    "nltk.download('wordnet')  # Download WordNet data for lemmatization\n",
    "nltk.download('omw-1.4')  # Download WordNet OMW data for additional lemmatization support\n",
    "\n",
    "# Sample text data with plural forms and verbs (to show lemmatization effect)\n",
    "text = \"The cats were running and jumping over the boxes. The dogs run quickly and they are happy!\"\n",
    "\n",
    "# Step 1: Tokenization (breaking the text into words)\n",
    "tokens = word_tokenize(text)\n",
    "\n",
    "# Step 2: Lemmatization using NLTK's WordNetLemmatizer\n",
    "lemmatizer = WordNetLemmatizer()\n",
    "\n",
    "# Applying lemmatization on the tokens\n",
    "lemmatized_tokens = [lemmatizer.lemmatize(word, pos='v') if word.lower() in ['running', 'jumping', 'run'] else lemmatizer.lemmatize(word) for word in tokens]\n",
    "\n",
    "# Step 3: Count the frequency of each token\n",
    "token_counts = Counter(lemmatized_tokens)\n",
    "\n",
    "# Display processed tokens and their frequency counts\n",
    "print(\"Original Tokens:\", tokens)\n",
    "print(\"Lemmatized Tokens:\", lemmatized_tokens)\n",
    "print(\"Token Frequency:\", token_counts)\n"
   ]
  },
  {
   "cell_type": "code",
   "execution_count": 5,
   "id": "0cfc4b3c",
   "metadata": {},
   "outputs": [
    {
     "name": "stdout",
     "output_type": "stream",
     "text": [
      "Original Tokens: ['The', 'cats', 'were', 'running', 'and', 'jumping', 'over', 'the', 'boxes', '.', 'The', 'dogs', 'run', 'quickly', 'and', 'they', 'are', 'happy', '!']\n",
      "Lemmatized Tokens: ['The', 'cat', 'were', 'run', 'and', 'jump', 'over', 'the', 'box', '.', 'The', 'dog', 'run', 'quickly', 'and', 'they', 'are', 'happy', '!']\n",
      "Token Frequency: Counter({'The': 2, 'run': 2, 'and': 2, 'cat': 1, 'were': 1, 'jump': 1, 'over': 1, 'the': 1, 'box': 1, '.': 1, 'dog': 1, 'quickly': 1, 'they': 1, 'are': 1, 'happy': 1, '!': 1})\n"
     ]
    },
    {
     "name": "stderr",
     "output_type": "stream",
     "text": [
      "[nltk_data] Downloading package punkt to\n",
      "[nltk_data]     C:\\Users\\Administrator\\AppData\\Roaming\\nltk_data...\n",
      "[nltk_data]   Package punkt is already up-to-date!\n",
      "[nltk_data] Downloading package wordnet to\n",
      "[nltk_data]     C:\\Users\\Administrator\\AppData\\Roaming\\nltk_data...\n",
      "[nltk_data]   Package wordnet is already up-to-date!\n",
      "[nltk_data] Downloading package omw-1.4 to\n",
      "[nltk_data]     C:\\Users\\Administrator\\AppData\\Roaming\\nltk_data...\n",
      "[nltk_data]   Package omw-1.4 is already up-to-date!\n"
     ]
    }
   ],
   "source": [
    "# Import necessary libraries\n",
    "import nltk\n",
    "from nltk.tokenize import word_tokenize\n",
    "from nltk.stem import WordNetLemmatizer  # Import lemmatizer\n",
    "from collections import Counter\n",
    "\n",
    "# Download necessary NLTK resources\n",
    "nltk.download('punkt')\n",
    "nltk.download('wordnet')  # Download WordNet data for lemmatization\n",
    "nltk.download('omw-1.4')  # Download WordNet OMW data for additional lemmatization support\n",
    "\n",
    "# Sample text data with plural forms and verbs (to show lemmatization effect)\n",
    "text = \"The cats were running and jumping over the boxes. The dogs run quickly and they are happy!\"\n",
    "\n",
    "# Step 1: Tokenization (breaking the text into words)\n",
    "tokens = word_tokenize(text)\n",
    "\n",
    "# Step 2: Lemmatization using NLTK's WordNetLemmatizer\n",
    "lemmatizer = WordNetLemmatizer()\n",
    "\n",
    "# Applying lemmatization on the tokens\n",
    "lemmatized_tokens = [lemmatizer.lemmatize(word, pos='v') if word.lower() in ['running', 'jumping', 'run'] else lemmatizer.lemmatize(word) for word in tokens]\n",
    "\n",
    "# Step 3: Count the frequency of each token\n",
    "token_counts = Counter(lemmatized_tokens)\n",
    "\n",
    "# Display processed tokens and their frequency counts\n",
    "print(\"Original Tokens:\", tokens)\n",
    "print(\"Lemmatized Tokens:\", lemmatized_tokens)\n",
    "print(\"Token Frequency:\", token_counts)\n"
   ]
  },
  {
   "cell_type": "code",
   "execution_count": 40,
   "id": "1f4ce345",
   "metadata": {},
   "outputs": [
    {
     "name": "stdout",
     "output_type": "stream",
     "text": [
      "Enter an email address: OMER.com\n",
      "Invalid email address\n"
     ]
    }
   ],
   "source": [
    "import re\n",
    "\n",
    "# Regex pattern for validating an email\n",
    "email_pattern = r'^[a-zA-Z0-9_.+-]+@[a-zA-Z0-9-]+\\.[a-zA-Z0-9-.]+$'\n",
    "\n",
    "# Sample email to validate\n",
    "email = input(\"Enter an email address: \")\n",
    "\n",
    "# Validate the email using the regex pattern\n",
    "if re.match(email_pattern, email):\n",
    "    print(\"Valid email address\")\n",
    "else:\n",
    "    print(\"Invalid email address\")\n"
   ]
  },
  {
   "cell_type": "code",
   "execution_count": 13,
   "id": "41dfd26d",
   "metadata": {},
   "outputs": [
    {
     "name": "stdout",
     "output_type": "stream",
     "text": [
      "Original DataFrame:\n",
      "    Fruit\n",
      "0   Apple\n",
      "1  Banana\n",
      "2  Cherry\n",
      "3   Apple\n",
      "4  Banana\n",
      "5  Cherry\n",
      "6  Cherry\n",
      "\n",
      "One-Hot Encoded DataFrame (0 and 1):\n",
      "   Apple  Banana  Cherry\n",
      "0      1       0       0\n",
      "1      0       1       0\n",
      "2      0       0       1\n",
      "3      1       0       0\n",
      "4      0       1       0\n",
      "5      0       0       1\n",
      "6      0       0       1\n"
     ]
    }
   ],
   "source": [
    "import pandas as pd\n",
    "\n",
    "# Sample data: List of fruits\n",
    "fruits = ['Apple', 'Banana', 'Cherry', 'Apple', 'Banana', 'Cherry', 'Cherry']\n",
    "\n",
    "# Convert the list into a DataFrame\n",
    "df = pd.DataFrame(fruits, columns=['Fruit'])\n",
    "\n",
    "# Display the original DataFrame\n",
    "print(\"Original DataFrame:\")\n",
    "print(df)\n",
    "\n",
    "# Apply One-Hot Encoding using pd.get_dummies() function\n",
    "one_hot_encoded_df = pd.get_dummies(df['Fruit'], dtype=int)\n",
    "\n",
    "# Display the One-Hot Encoded DataFrame with 0s and 1s\n",
    "print(\"\\nOne-Hot Encoded DataFrame (0 and 1):\")\n",
    "print(one_hot_encoded_df)\n"
   ]
  },
  {
   "cell_type": "code",
   "execution_count": 41,
   "id": "39894b78",
   "metadata": {},
   "outputs": [
    {
     "name": "stdout",
     "output_type": "stream",
     "text": [
      "  (0, 14)\t1\n",
      "  (0, 15)\t1\n",
      "  (0, 7)\t1\n",
      "  (1, 10)\t1\n",
      "  (1, 8)\t1\n",
      "  (1, 6)\t1\n",
      "  (2, 15)\t1\n",
      "  (2, 24)\t1\n",
      "  (2, 18)\t1\n",
      "  (3, 15)\t1\n",
      "  (3, 11)\t1\n",
      "  (3, 3)\t1\n",
      "  (4, 15)\t1\n",
      "  (4, 1)\t1\n",
      "  (4, 17)\t1\n",
      "  (4, 5)\t1\n",
      "  (5, 9)\t1\n",
      "  (5, 2)\t1\n",
      "  (5, 12)\t1\n",
      "  (5, 16)\t1\n",
      "  (6, 19)\t1\n",
      "  (6, 21)\t1\n",
      "  (6, 20)\t1\n",
      "  (7, 10)\t1\n",
      "  (7, 8)\t1\n",
      "  (7, 20)\t1\n",
      "  (7, 23)\t1\n",
      "  (8, 15)\t1\n",
      "  (8, 17)\t1\n",
      "  (8, 2)\t1\n",
      "  (8, 4)\t1\n",
      "  (8, 13)\t1\n",
      "  (9, 1)\t1\n",
      "  (9, 0)\t1\n",
      "  (9, 22)\t1\n",
      "\n",
      "Predictions on Test Data:\n",
      "Review: I love the movie, it was fantastic! \n",
      "Predicted Sentiment: positive \n",
      "\n",
      "Review: It was a great film, very entertaining! \n",
      "Predicted Sentiment: positive \n",
      "\n",
      "Review: Worst movie I have ever seen. \n",
      "Predicted Sentiment: negative \n",
      "\n"
     ]
    }
   ],
   "source": [
    "# Import necessary libraries\n",
    "import pandas as pd\n",
    "from sklearn.feature_extraction.text import CountVectorizer\n",
    "from sklearn.model_selection import train_test_split\n",
    "from sklearn.naive_bayes import MultinomialNB\n",
    "from sklearn.metrics import accuracy_score\n",
    "\n",
    "# Sample dataset (movie reviews and their sentiment)\n",
    "data = {\n",
    "    'Review': [\n",
    "        'I love the movie, it was fantastic!',\n",
    "        'It was a great film, very entertaining!',\n",
    "        'Worst movie I have ever seen.',\n",
    "        'I hated this movie, it was boring.',\n",
    "        'Such an amazing movie, I really enjoyed it!',\n",
    "        'Not good, not bad, just okay.',\n",
    "        'Terrible, waste of time.',\n",
    "        'I had a great time watching this film.',\n",
    "        'The movie was really bad, I didn\\'t like it at all.',\n",
    "        'Absolutely amazing, would watch it again.'\n",
    "    ],\n",
    "    'Sentiment': ['positive', 'positive', 'negative', 'negative', 'positive', 'neutral', 'negative', 'positive', 'negative', 'positive']\n",
    "}\n",
    "\n",
    "# Convert the data into a pandas DataFrame\n",
    "df = pd.DataFrame(data)\n",
    "\n",
    "# Step 1: Text preprocessing and BoW conversion using CountVectorizer\n",
    "vectorizer = CountVectorizer(stop_words='english')  # Ignore common English stopwords\n",
    "X = vectorizer.fit_transform(df['Review'])  # Convert reviews into BoW representation\n",
    "y = df['Sentiment']  # Target sentiment labels\n",
    "print(X)\n",
    "# Step 2: Split the dataset into training and testing sets\n",
    "X_train, X_test, y_train, y_test = train_test_split(X, y, test_size=0.3, random_state=42)\n",
    "\n",
    "# Step 3: Train a classifier (Naive Bayes for simplicity)\n",
    "classifier = MultinomialNB()\n",
    "classifier.fit(X_train, y_train)\n",
    "\n",
    "# Step 4: Make predictions on the test set\n",
    "y_pred = classifier.predict(X_test)\n",
    "\n",
    "# Step 5: Evaluate the model\n",
    "accuracy = accuracy_score(y_test, y_pred)\n",
    "\n",
    "# Example of predictions\n",
    "print(\"\\nPredictions on Test Data:\")\n",
    "for i in range(len(y_pred)):\n",
    "    print(f\"Review: {df['Review'].iloc[i]} \\nPredicted Sentiment: {y_pred[i]} \\n\")\n"
   ]
  },
  {
   "cell_type": "code",
   "execution_count": 42,
   "id": "8ef14680",
   "metadata": {},
   "outputs": [
    {
     "name": "stdout",
     "output_type": "stream",
     "text": [
      "^(?:[\\u2700-\\u27bf]|(?:\\ud83c[\\udde6-\\uddff]){1,2}|(?:\\ud83d[\\udc00-\\ude4f]){1,2}|[\\ud800-\\udbff][\\udc00-\\udfff]|[\\u0021-\\u002f\\u003a-\\u0040\\u005b-\\u0060\\u007b-\\u007e]|\\u3299|\\u3297|\\u303d|\\u3030|\\u24c2|\\ud83c[\\udd70-\\udd71]|\\ud83c[\\udd7e-\\udd7f]|\\ud83c\\udd8e|\\ud83c[\\udd91-\\udd9a]|\\ud83c[\\udde6-\\uddff]|\\ud83c[\\ude01-\\ude02]|\\ud83c\\ude1a|\\ud83c\\ude2f|\\ud83c[\\ude32-\\ude3a]|\\ud83c[\\ude50-\\ude51]|\\u203c|\\u2049|\\u25aa|\\u25ab|\\u25b6|\\u25c0|\\u25fb|\\u25fc|\\u25fd|\\u25fe|\\u2600|\\u2601|\\u260e|\\u2611|[^\\u0000-\\u007F])+$\n",
      "^(?:[\\u2700-\\u27bf]|(?:\\ud83c[\\udde6-\\uddff]){1,2}|(?:\\ud83d[\\udc00-\\ude4f]){1,2}|[\\ud800-\\udbff][\\udc00-\\udfff]|[\\u0021-\\u002f\\u003a-\\u0040\\u005b-\\u0060\\u007b-\\u007e]|\\u3299|\\u3297|\\u303d|\\u3030|\\u24c2|\\ud83c[\\udd70-\\udd71]|\\ud83c[\\udd7e-\\udd7f]|\\ud83c\\udd8e|\\ud83c[\\udd91-\\udd9a]|\\ud83c[\\udde6-\\uddff]|\\ud83c[\\ude01-\\ude02]|\\ud83c\\ude1a|\\ud83c\\ude2f|\\ud83c[\\ude32-\\ude3a]|\\ud83c[\\ude50-\\ude51]|\\u203c|\\u2049|\\u25aa|\\u25ab|\\u25b6|\\u25c0|\\u25fb|\\u25fc|\\u25fd|\\u25fe|\\u2600|\\u2601|\\u260e|\\u2611|[^\\u0000-\\u007F])+$\n",
      "^(?:[\\u2700-\\u27bf]|(?:\\ud83c[\\udde6-\\uddff]){1,2}|(?:\\ud83d[\\udc00-\\ude4f]){1,2}|[\\ud800-\\udbff][\\udc00-\\udfff]|[\\u0021-\\u002f\\u003a-\\u0040\\u005b-\\u0060\\u007b-\\u007e]|\\u3299|\\u3297|\\u303d|\\u3030|\\u24c2|\\ud83c[\\udd70-\\udd71]|\\ud83c[\\udd7e-\\udd7f]|\\ud83c\\udd8e|\\ud83c[\\udd91-\\udd9a]|\\ud83c[\\udde6-\\uddff]|\\ud83c[\\ude01-\\ude02]|\\ud83c\\ude1a|\\ud83c\\ude2f|\\ud83c[\\ude32-\\ude3a]|\\ud83c[\\ude50-\\ude51]|\\u203c|\\u2049|\\u25aa|\\u25ab|\\u25b6|\\u25c0|\\u25fb|\\u25fc|\\u25fd|\\u25fe|\\u2600|\\u2601|\\u260e|\\u2611|[^\\u0000-\\u007F])+$\n",
      "^(?:[\\u2700-\\u27bf]|(?:\\ud83c[\\udde6-\\uddff]){1,2}|(?:\\ud83d[\\udc00-\\ude4f]){1,2}|[\\ud800-\\udbff][\\udc00-\\udfff]|[\\u0021-\\u002f\\u003a-\\u0040\\u005b-\\u0060\\u007b-\\u007e]|\\u3299|\\u3297|\\u303d|\\u3030|\\u24c2|\\ud83c[\\udd70-\\udd71]|\\ud83c[\\udd7e-\\udd7f]|\\ud83c\\udd8e|\\ud83c[\\udd91-\\udd9a]|\\ud83c[\\udde6-\\uddff]|\\ud83c[\\ude01-\\ude02]|\\ud83c\\ude1a|\\ud83c\\ude2f|\\ud83c[\\ude32-\\ude3a]|\\ud83c[\\ude50-\\ude51]|\\u203c|\\u2049|\\u25aa|\\u25ab|\\u25b6|\\u25c0|\\u25fb|\\u25fc|\\u25fd|\\u25fe|\\u2600|\\u2601|\\u260e|\\u2611|[^\\u0000-\\u007F])+$\n",
      "^(?:[\\u2700-\\u27bf]|(?:\\ud83c[\\udde6-\\uddff]){1,2}|(?:\\ud83d[\\udc00-\\ude4f]){1,2}|[\\ud800-\\udbff][\\udc00-\\udfff]|[\\u0021-\\u002f\\u003a-\\u0040\\u005b-\\u0060\\u007b-\\u007e]|\\u3299|\\u3297|\\u303d|\\u3030|\\u24c2|\\ud83c[\\udd70-\\udd71]|\\ud83c[\\udd7e-\\udd7f]|\\ud83c\\udd8e|\\ud83c[\\udd91-\\udd9a]|\\ud83c[\\udde6-\\uddff]|\\ud83c[\\ude01-\\ude02]|\\ud83c\\ude1a|\\ud83c\\ude2f|\\ud83c[\\ude32-\\ude3a]|\\ud83c[\\ude50-\\ude51]|\\u203c|\\u2049|\\u25aa|\\u25ab|\\u25b6|\\u25c0|\\u25fb|\\u25fc|\\u25fd|\\u25fe|\\u2600|\\u2601|\\u260e|\\u2611|[^\\u0000-\\u007F])+$\n",
      "['i really disappointed product', 'i would use again', 'it really bad feature', 'i love product', 'it good feature']\n"
     ]
    }
   ],
   "source": [
    "import nltk\n",
    "from nltk.stem import WordNetLemmatizer \n",
    "import re\n",
    "from nltk.corpus import stopwords\n",
    "\n",
    "def preprocessing_text(text):\n",
    "    lemmatizer = WordNetLemmatizer()\n",
    "    emoji_pattern = r'^(?:[\\u2700-\\u27bf]|(?:\\ud83c[\\udde6-\\uddff]){1,2}|(?:\\ud83d[\\udc00-\\ude4f]){1,2}|[\\ud800-\\udbff][\\udc00-\\udfff]|[\\u0021-\\u002f\\u003a-\\u0040\\u005b-\\u0060\\u007b-\\u007e]|\\u3299|\\u3297|\\u303d|\\u3030|\\u24c2|\\ud83c[\\udd70-\\udd71]|\\ud83c[\\udd7e-\\udd7f]|\\ud83c\\udd8e|\\ud83c[\\udd91-\\udd9a]|\\ud83c[\\udde6-\\uddff]|\\ud83c[\\ude01-\\ude02]|\\ud83c\\ude1a|\\ud83c\\ude2f|\\ud83c[\\ude32-\\ude3a]|\\ud83c[\\ude50-\\ude51]|\\u203c|\\u2049|\\u25aa|\\u25ab|\\u25b6|\\u25c0|\\u25fb|\\u25fc|\\u25fd|\\u25fe|\\u2600|\\u2601|\\u260e|\\u2611|[^\\u0000-\\u007F])+$'\n",
    "    print(emoji_pattern)\n",
    "    text = text.split()\n",
    "    text = [lemmatizer.lemmatize(word) for word in text if not word in set(stopwords.words('english'))]\n",
    "    text = ' '.join(text)  \n",
    "    text = re.sub(r'[0-9]+', '', text)\n",
    "    text = re.sub(r'[^\\w\\s]', '', text)\n",
    "    text = re.sub(emoji_pattern, '', text)\n",
    "    text= re.sub(r'\\s+', ' ', text)\n",
    "    text= text.lower().strip()\n",
    "    \n",
    "    return text\n",
    "\n",
    "paragraph = \"\"\"I am really disappointed this product. I would not use it again. It has really bad feature.\n",
    "I love this product! It has some good features\"\"\"\n",
    "\n",
    "sentences_list = nltk.sent_tokenize(paragraph)\n",
    " \n",
    "corpus = [preprocessing_text(sentence) for sentence in sentences_list]\n",
    "\n",
    "print(corpus)"
   ]
  },
  {
   "cell_type": "code",
   "execution_count": 32,
   "id": "b9005bea",
   "metadata": {},
   "outputs": [
    {
     "name": "stdout",
     "output_type": "stream",
     "text": [
      "[[0 0 0 1 0 1 0]\n",
      " [0 0 1 1 1 0 0]\n",
      " [1 1 0 0 0 1 1]]\n",
      "['fun' 'is' 'learning' 'love' 'machine' 'programming' 'python']\n"
     ]
    }
   ],
   "source": [
    "from sklearn.feature_extraction.text import CountVectorizer\n",
    "\n",
    "# Sample text (sentences)\n",
    "corpus = [\n",
    "    \"I love programming\",\n",
    "    \"I love machine learning\",\n",
    "    \"Python programming is fun\"\n",
    "]\n",
    "\n",
    "# Initialize the CountVectorizer\n",
    "vectorizer = CountVectorizer()\n",
    "\n",
    "# Convert the corpus into a bag of words\n",
    "X = vectorizer.fit_transform(corpus)\n",
    "\n",
    "# Convert the result into an array to view the word counts\n",
    "print(X.toarray())\n",
    "\n",
    "# Display the words corresponding to the columns\n",
    "print(vectorizer.get_feature_names_out())\n"
   ]
  },
  {
   "cell_type": "code",
   "execution_count": 34,
   "id": "50fd4942",
   "metadata": {},
   "outputs": [
    {
     "name": "stdout",
     "output_type": "stream",
     "text": [
      "Bag of Words Matrix (Table Format):\n",
      "   fun  is  learning  love  machine  programming  python\n",
      "0    0   0         0     1        0            1       0\n",
      "1    0   0         1     1        1            0       0\n",
      "2    1   1         0     0        0            1       1\n",
      "3    0   0         0     1        0            0       1\n"
     ]
    }
   ],
   "source": [
    "from sklearn.feature_extraction.text import CountVectorizer\n",
    "import pandas as pd\n",
    "\n",
    "# Sample corpus (list of text documents or sentences)\n",
    "corpus = [\n",
    "    \"I love programming\",\n",
    "    \"I love machine learning\",\n",
    "    \"Python programming is fun\",\n",
    "    \"I love Python\"\n",
    "]\n",
    "\n",
    "# Initialize the CountVectorizer\n",
    "vectorizer = CountVectorizer()\n",
    "\n",
    "# Fit and transform the corpus into a Bag of Words matrix\n",
    "X = vectorizer.fit_transform(corpus)\n",
    "\n",
    "# Convert the result into a DataFrame to view the Bag of Words matrix\n",
    "bag_of_words_df = pd.DataFrame(X.toarray(), columns=vectorizer.get_feature_names_out())\n",
    "\n",
    "# Display the Bag of Words matrix as a table\n",
    "print(\"Bag of Words Matrix (Table Format):\")\n",
    "print(bag_of_words_df)\n"
   ]
  },
  {
   "cell_type": "code",
   "execution_count": 35,
   "id": "d3c83ff7",
   "metadata": {},
   "outputs": [
    {
     "name": "stdout",
     "output_type": "stream",
     "text": [
      "TF-IDF Matrix:\n",
      "[[0.         0.60465213 0.         0.         0.45985353 0.\n",
      "  0.45985353 0.45985353]\n",
      " [0.         0.         0.         0.62276601 0.4736296  0.62276601\n",
      "  0.         0.        ]\n",
      " [0.5628291  0.         0.5628291  0.         0.         0.\n",
      "  0.42804604 0.42804604]]\n",
      "\n",
      "Words in the vocabulary:\n",
      "['fun' 'in' 'is' 'learning' 'love' 'machine' 'programming' 'python']\n"
     ]
    }
   ],
   "source": [
    "from sklearn.feature_extraction.text import TfidfVectorizer\n",
    "\n",
    "# Sample corpus (list of documents)\n",
    "corpus = [\n",
    "    \"I love programming in Python\",\n",
    "    \"I love machine learning\",\n",
    "    \"Python programming is fun\"\n",
    "]\n",
    "\n",
    "# Initialize the TfidfVectorizer\n",
    "vectorizer = TfidfVectorizer()\n",
    "\n",
    "# Fit and transform the corpus into a TF-IDF matrix\n",
    "X = vectorizer.fit_transform(corpus)\n",
    "\n",
    "# Convert the result into an array\n",
    "tfidf_array = X.toarray()\n",
    "\n",
    "# Display the TF-IDF matrix\n",
    "print(\"TF-IDF Matrix:\")\n",
    "print(tfidf_array)\n",
    "\n",
    "# Display the words in the vocabulary\n",
    "print(\"\\nWords in the vocabulary:\")\n",
    "print(vectorizer.get_feature_names_out())\n"
   ]
  },
  {
   "cell_type": "code",
   "execution_count": null,
   "id": "a35added",
   "metadata": {},
   "outputs": [],
   "source": []
  }
 ],
 "metadata": {
  "kernelspec": {
   "display_name": "Python 3 (ipykernel)",
   "language": "python",
   "name": "python3"
  },
  "language_info": {
   "codemirror_mode": {
    "name": "ipython",
    "version": 3
   },
   "file_extension": ".py",
   "mimetype": "text/x-python",
   "name": "python",
   "nbconvert_exporter": "python",
   "pygments_lexer": "ipython3",
   "version": "3.11.5"
  }
 },
 "nbformat": 4,
 "nbformat_minor": 5
}
